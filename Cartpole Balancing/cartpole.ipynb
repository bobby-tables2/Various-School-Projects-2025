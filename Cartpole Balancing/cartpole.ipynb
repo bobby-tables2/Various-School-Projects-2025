{
  "cells": [
    {
      "cell_type": "markdown",
      "metadata": {
        "id": "ZauhjPSfX7pI"
      },
      "source": [
        "# Tutorial and Sample Code for Balancing a Pole on a Cart"
      ]
    },
    {
      "cell_type": "markdown",
      "metadata": {
        "id": "UBiYOoesYMvr"
      },
      "source": [
        "## Installing dependencies:"
      ]
    },
    {
      "cell_type": "code",
      "execution_count": null,
      "metadata": {
        "colab": {
          "base_uri": "https://localhost:8080/",
          "height": 728
        },
        "id": "PbgnVwZmX5uW",
        "outputId": "b67168c9-349c-49c8-878e-0a5201fee1e4",
        "tags": [
          "parameters"
        ]
      },
      "outputs": [],
      "source": [
        "!apt-get install -y xvfb python-opengl > /dev/null 2>&1\n",
        "!pip install gym pyvirtualdisplay > /dev/null 2>&1\n",
        "!pip install gym pyvirtualdisplay > /dev/null 2>&1\n",
        "!apt-get install -y xvfb python-opengl ffmpeg > /dev/null 2>&1\n",
        "!pip install gym[classic_control]\n",
        "!apt-get update > /dev/null 2>&1\n",
        "!apt-get install cmake > /dev/null 2>&1\n",
        "!pip install --upgrade setuptools 2>&1\n",
        "!pip install ez_setup > /dev/null 2>&1"
      ]
    },
    {
      "cell_type": "markdown",
      "metadata": {
        "id": "RwKbYeTgbaTA"
      },
      "source": [
        "## Importing dependencies and define helper functions"
      ]
    },
    {
      "cell_type": "code",
      "execution_count": 1,
      "metadata": {
        "id": "j6KpgCLGYWmj"
      },
      "outputs": [],
      "source": [
        "import gym\n",
        "from gym import logger as gymlogger\n",
        "from gym.wrappers import RecordVideo\n",
        "gymlogger.set_level(40) #error only\n",
        "import tensorflow as tf\n",
        "import numpy as np\n",
        "import random\n",
        "import matplotlib\n",
        "import matplotlib.pyplot as plt\n",
        "%matplotlib inline\n",
        "import math\n",
        "import glob\n",
        "import io\n",
        "import base64\n",
        "from IPython.display import HTML\n",
        "from IPython import display as ipythondisplay\n",
        "\n",
        "def show_video():\n",
        "  mp4list = glob.glob('video/*.mp4')\n",
        "  if len(mp4list) > 0:\n",
        "    mp4 = mp4list[0]\n",
        "    video = io.open(mp4, 'r+b').read()\n",
        "    encoded = base64.b64encode(video)\n",
        "    ipythondisplay.display(HTML(data='''<video alt=\"test\" autoplay\n",
        "                loop controls style=\"height: 400px;\">\n",
        "                <source src=\"data:video/mp4;base64,{0}\" type=\"video/mp4\" />\n",
        "             </video>'''.format(encoded.decode('ascii'))))\n",
        "  else:\n",
        "    print(\"Could not find video\")"
      ]
    },
    {
      "cell_type": "markdown",
      "metadata": {
        "id": "ehbqP9CXbmo7"
      },
      "source": [
        "## Tutorial: Loading CartPole environment"
      ]
    },
    {
      "cell_type": "code",
      "execution_count": 2,
      "metadata": {
        "id": "Go12dH4qbwBy"
      },
      "outputs": [],
      "source": [
        "env = gym.make(\"CartPole-v1\")"
      ]
    },
    {
      "cell_type": "markdown",
      "metadata": {
        "id": "9XZ9g3xrcAXE"
      },
      "source": [
        "We can check the action and observation space of this environment. Discrete(2) means that there are two valid discrete actions: 0 & 1."
      ]
    },
    {
      "cell_type": "code",
      "execution_count": null,
      "metadata": {
        "colab": {
          "base_uri": "https://localhost:8080/"
        },
        "id": "ytxvVmLdcRyw",
        "outputId": "4e5a4980-3a72-453b-cea8-2920d4fb1efb"
      },
      "outputs": [],
      "source": [
        "print(env.action_space)"
      ]
    },
    {
      "cell_type": "markdown",
      "metadata": {
        "id": "pVXGWi_Ncfg-"
      },
      "source": [
        "The observation space is given below. The first two arrays define the min and max values of the 4 observed values, corresponding to cart position, velocity and pole angle, angular velocity."
      ]
    },
    {
      "cell_type": "code",
      "execution_count": null,
      "metadata": {
        "colab": {
          "base_uri": "https://localhost:8080/"
        },
        "id": "DyqHr9I5cdkX",
        "outputId": "9eba0e00-d105-444a-85fb-9895d5a38fb8"
      },
      "outputs": [],
      "source": [
        "print(env.observation_space)"
      ]
    },
    {
      "cell_type": "markdown",
      "metadata": {
        "id": "HFOdaU2Gdyg0"
      },
      "source": [
        "We call each round of the pole-balancing game an \"episode\". At the start of each episode, make sure the environment is reset, which chooses a random initial state, e.g., pole slightly tilted to the right. This initialization can be achieved by the code below, which returns the observation of the initial state."
      ]
    },
    {
      "cell_type": "code",
      "execution_count": null,
      "metadata": {
        "colab": {
          "base_uri": "https://localhost:8080/"
        },
        "id": "VMr6qAqxdOsm",
        "outputId": "163b30df-0eec-47b2-d552-209b8f308d92"
      },
      "outputs": [],
      "source": [
        "data = env.reset()\n",
        "print(data)\n",
        "print(len(data))\n",
        "observation, _ = data\n",
        "print(\"Initial observations:\", observation)\n",
        "print(observation[0])"
      ]
    },
    {
      "cell_type": "markdown",
      "metadata": {
        "id": "qnG2QdfbeZrI"
      },
      "source": [
        "For the CartPole environment, there are two possible actions: 0 for pushing to the left and 1 for pushing to the right. For example, we can push the cart to the left using code below, which returns the new observation, the current reward, an indicator of whether the game ends, and some additional information (not used in this project). For CartPole, the game ends when the pole is significantly tilted or you manage to balance the pole for 500 steps. You get exactly 1 reward for each step before the game ends (i.e., max cumulative reward is 500)."
      ]
    },
    {
      "cell_type": "code",
      "execution_count": null,
      "metadata": {
        "colab": {
          "base_uri": "https://localhost:8080/"
        },
        "id": "MmfMDvyYdWGk",
        "outputId": "dd203df8-1e35-45e9-b4ca-657cba259507"
      },
      "outputs": [],
      "source": [
        "#observation, reward, done, info = env.step(0)\n",
        "data = env.step(0)\n",
        "print(data)\n",
        "print(len(data))\n",
        "observation, reward, done, info, _ = data\n",
        "print(\"New observations after choosing action 0:\", observation)\n",
        "print(\"Reward for this step:\", reward)\n",
        "print(\"Is this round done?\", done)"
      ]
    },
    {
      "cell_type": "markdown",
      "metadata": {
        "id": "tj0zCh59fhBb"
      },
      "source": [
        "Now we can play a full round of the game using a naive strategy (always choosing action 0), and show the cumulative reward in the round. Note that reward returned by env.step(*) corresponds to the reward for current step. So we have to accumulate the reward for each step. Clearly, the naive strategy performs poorly by surviving only a dozen of steps."
      ]
    },
    {
      "cell_type": "code",
      "execution_count": null,
      "metadata": {
        "colab": {
          "base_uri": "https://localhost:8080/"
        },
        "id": "AVucQVRwf6Jm",
        "outputId": "fbe47b4e-a92c-49cb-d0f3-b8c32c7eed58"
      },
      "outputs": [],
      "source": [
        "observation = env.reset()\n",
        "cumulative_reward = 0\n",
        "done = False\n",
        "while not done:\n",
        "    observation, reward, done, info, _ = env.step(0)\n",
        "    cumulative_reward += reward\n",
        "print(\"Cumulative reward for this round:\", cumulative_reward)"
      ]
    },
    {
      "cell_type": "markdown",
      "metadata": {
        "id": "2oIzK9SzhlWN"
      },
      "source": [
        "## Task 1: Development of an RL agent"
      ]
    },
    {
      "cell_type": "markdown",
      "metadata": {
        "id": "Cc6_e5c_huiq"
      },
      "source": [
        "An example of a naive agent is given below, which randomly chooses an action regardless of the observation:"
      ]
    },
    {
      "cell_type": "markdown",
      "metadata": {},
      "source": [
        "## Step 0: Load the classes QState and QPolicy"
      ]
    },
    {
      "cell_type": "code",
      "execution_count": 4,
      "metadata": {
        "colab": {
          "base_uri": "https://localhost:8080/",
          "height": 380
        },
        "id": "Hk-M4QEfh6l5",
        "outputId": "46dcbcd2-9cd2-4cdb-da58-5e6f9c621d67"
      },
      "outputs": [],
      "source": [
        "import random\n",
        "import copy\n",
        "import math\n",
        "\n",
        "def rand_policy_agent(observation):\n",
        "    return random.randint(0, 1)\n",
        "\n",
        "# Since the only two actions are going left and right, each Q-State stores the Q-values for both of those sections.\n",
        "class QState:\n",
        "  def __init__(self, left_val, right_val):\n",
        "    self.left_val = left_val\n",
        "    self.right_val = right_val\n",
        "\n",
        "  def getLeft(self):\n",
        "    return self.left_val\n",
        "\n",
        "  def setLeft(self, val):\n",
        "    self.left_val = val\n",
        "\n",
        "  def getRight(self):\n",
        "    return self.right_val\n",
        "\n",
        "  def setRight(self, val):\n",
        "    self.right_val = val\n",
        "\n",
        "  def pick_action(self):\n",
        "    return 0 if self.left_val > self.right_val else 1\n",
        "    #return 0 if random.randint(0, math.ceil(self.left_val)+2) > random.randint(0, math.ceil(self.right_val)+2) else 1\n",
        "  \n",
        "  def __str__(self):\n",
        "    return \"(\" + str(self.left_val) + \", \" + str(self.right_val) + \")\"\n",
        "  \n",
        "  def __repr__(self):\n",
        "    return \"(\" + str(self.left_val) + \", \" + str(self.right_val) + \")\"\n",
        "\n",
        "\n",
        "class QPolicy:\n",
        "\n",
        "  def __init__(self):\n",
        "    self.states = None\n",
        "    self.QTable = {}\n",
        "  \n",
        "  # Maps an observation to a Q-State.\n",
        "  # I came up with my very own hashing function, which takes an observation and rounds off each float inside the observation to 1 decimal point.\n",
        "  def observationToIndex(self, observation):\n",
        "    \"\"\"\n",
        "    Num Observation   Min   Max\n",
        "    0   Cart Position -4.8  4.8\n",
        "    1   Cart Velocity -Inf  Inf\n",
        "    2   Pole Angle    ~-0.418 rad (-24°) ~0.418 rad (24°)\n",
        "    3   Pole Angular Velocity -Inf Inf\n",
        "    \"\"\"\n",
        "\n",
        "    index = tuple(map(lambda x: math.floor(x*10), observation))\n",
        "    if index not in self.QTable:\n",
        "      if len(self.QTable) < 100000:\n",
        "        # During training, if a new observation is encountered, add a new entry to the Q-Table.\n",
        "        self.QTable[index] = QState(0, 0)\n",
        "      else:\n",
        "        # If the observation is not in the table, find the closest Q-State that corresponds to that observation instead \n",
        "        min_key = (0, 0, 0, 0)\n",
        "        for key in self.QTable.keys():\n",
        "          if np.linalg.norm(np.array(min_key)-observation) < np.linalg.norm(np.array(key)-observation):\n",
        "            min_key = key\n",
        "        return self.QTable[min_key]\n",
        "\n",
        "    return self.QTable[index]\n",
        "\n",
        "\n",
        "  def initialise(self):\n",
        "    self.QTable = {}\n",
        "\n",
        "  # Takes the average score out of 100 trials.\n",
        "  def evaluate(self):\n",
        "    n = 100\n",
        "    cumulative_reward = 0\n",
        "    for i in range(n):\n",
        "      observation, _ = env.reset()\n",
        "      done = False\n",
        "      while not done:\n",
        "        data = env.step(self.observationToIndex(observation).pick_action())\n",
        "        observation, reward, done, info, _ = data\n",
        "        cumulative_reward += reward\n",
        "    return cumulative_reward // n\n",
        "\n",
        "  # Q-learning through a random trial.\n",
        "  def trial(self):\n",
        "    # According to https://en.wikipedia.org/wiki/Q-learning#Influence_of_variables a high alpha (learning rate) is appropriate as the gym environment is highly deterministic\n",
        "    # and a high gamma (discount factor) is appropriate as the policy will make a long string of steps in the gym environment.\n",
        "    a = 0.8\n",
        "    g = 0.9\n",
        "\n",
        "    done = False\n",
        "    observation, _ = env.reset()\n",
        "    while not done:\n",
        "      action = self.observationToIndex(observation).pick_action()\n",
        "      # take the other action once out of every 5 times\n",
        "      if random.randint(1,5) == 5:\n",
        "        action = 0 if action == 1 else 1\n",
        "      data = env.step(action)\n",
        "      next_observation, reward, done, info, _ = data\n",
        "\n",
        "      # Since we cannot easily determine the next step only from the current step, we treat the previous step as s (current state) and the current step as s' (the next state) for the Q-formula\n",
        "      ele = self.observationToIndex(observation)\n",
        "      next_ele = self.observationToIndex(next_observation)\n",
        "      \n",
        "      # The formula Q(s, a) = Q(s, a) + a * (r + g * max_a'(s', a') - Q(s, a)), where s is an observation and a is going left or right\n",
        "      if action == 0:\n",
        "        ele.setLeft(ele.getLeft() + \n",
        "                    a * (reward + \n",
        "                    g * max(next_ele.getLeft(), next_ele.getRight())\n",
        "                    - ele.getLeft()))\n",
        "      elif action == 1:\n",
        "        ele.setRight(ele.getRight() + \n",
        "                    a * (reward + \n",
        "                    g * max(next_ele.getLeft(), next_ele.getRight())\n",
        "                    - ele.getRight()))\n",
        "      observation = next_observation\n"
      ]
    },
    {
      "cell_type": "markdown",
      "metadata": {},
      "source": [
        "## Step 1: Generate a blank q-learning model"
      ]
    },
    {
      "cell_type": "code",
      "execution_count": 5,
      "metadata": {},
      "outputs": [
        {
          "name": "stdout",
          "output_type": "stream",
          "text": [
            "9.0\n"
          ]
        }
      ],
      "source": [
        "policy = QPolicy()\n",
        "policy.initialise()\n",
        "print(policy.evaluate())"
      ]
    },
    {
      "cell_type": "markdown",
      "metadata": {},
      "source": [
        "## Step 2: Load the Q-learning model from qpolicy.txt"
      ]
    },
    {
      "cell_type": "code",
      "execution_count": 6,
      "metadata": {},
      "outputs": [
        {
          "name": "stdout",
          "output_type": "stream",
          "text": [
            "427.0\n"
          ]
        }
      ],
      "source": [
        "policy = QPolicy()\n",
        "\n",
        "with open(\"qpolicy.txt\", \"r\") as f:\n",
        "    for ele in f:\n",
        "        stripped = ele.strip()\n",
        "        tuple_string, qstate_string = stripped.split(\":\")\n",
        "        tuple_string = tuple_string[1:-1]\n",
        "        qstate_string = qstate_string[1:-1]\n",
        "\n",
        "        key = tuple_string.split(\", \")\n",
        "        key = tuple(map(lambda x: int(x), key))\n",
        "        \n",
        "        left, right = qstate_string.split(\", \")\n",
        "        policy.QTable[key] = QState(float(left), float(right))\n",
        "\n",
        "print(policy.evaluate())"
      ]
    },
    {
      "cell_type": "markdown",
      "metadata": {},
      "source": [
        "## Step 3: Repeatedly train the q-learning model and save model data to qpolicy.txt"
      ]
    },
    {
      "cell_type": "code",
      "execution_count": null,
      "metadata": {},
      "outputs": [],
      "source": [
        "for j in range(100000):\n",
        "    for i in range(1000):\n",
        "        policy.trial()\n",
        "    with open(\"qpolicy.txt\", \"w\") as f:\n",
        "        for key, ele in policy.QTable.items():\n",
        "            f.write(str(key) + \":\" + str(ele) + \"\\n\")"
      ]
    },
    {
      "cell_type": "markdown",
      "metadata": {
        "id": "RAi7KKwNiegR"
      },
      "source": [
        "For Task 1, we can show the observation and chosen action below:"
      ]
    },
    {
      "cell_type": "code",
      "execution_count": null,
      "metadata": {
        "colab": {
          "base_uri": "https://localhost:8080/"
        },
        "id": "ae2ia-vUiNKJ",
        "outputId": "23bc86f5-9cf1-48f0-f2c9-4f8b6cebe7a3"
      },
      "outputs": [],
      "source": [
        "observation, _ = env.reset()\n",
        "action = policy.pick_action(observation)\n",
        "print(\"Observation:\", observation)\n",
        "print(\"Chosen action:\", action)"
      ]
    },
    {
      "cell_type": "markdown",
      "metadata": {
        "id": "-XtIQ0Rti1gm"
      },
      "source": [
        "## Task 2: Demonstrate the effectiveness of the RL agent"
      ]
    },
    {
      "cell_type": "markdown",
      "metadata": {
        "id": "djBEShf0kGI4"
      },
      "source": [
        "For this task, use the agent developed in Task 1 to play the game for 100 episodes (refer to tutorial for how to play a round), record the cumulative reward for each round, and plot the reward for each round. A sample plotting code is given below. Note that you must include code to play for 100 episodes and use the code to obtain round_results for plotting. DO NOT record the round results in advance and paste the results to the notebook."
      ]
    },
    {
      "cell_type": "code",
      "execution_count": 7,
      "metadata": {
        "colab": {
          "base_uri": "https://localhost:8080/",
          "height": 472
        },
        "id": "RZrCKywQi6CE",
        "outputId": "4ac715d9-7274-4e55-ce46-f607ad32b4c3"
      },
      "outputs": [
        {
          "data": {
            "image/png": "[encoded data removed]",
            "text/plain": [
              "<Figure size 640x480 with 1 Axes>"
            ]
          },
          "metadata": {},
          "output_type": "display_data"
        }
      ],
      "source": [
        "# I am aware that the simulation should end at step 500, but for some reason the cumulative reward goes beyond 1600 for some episodes\n",
        "episode_results = []\n",
        "\n",
        "n = 100\n",
        "for i in range(n):\n",
        "    cumulative_reward = 0\n",
        "    observation, _ = env.reset()\n",
        "    done = False\n",
        "    while not done:\n",
        "        data = env.step(policy.observationToIndex(observation).pick_action())\n",
        "        observation, reward, done, info, _ = data\n",
        "        cumulative_reward += reward\n",
        "    episode_results.append(cumulative_reward)\n",
        "\n",
        "episode_results = np.array(episode_results)\n",
        "\n",
        "plt.plot(episode_results)\n",
        "plt.title('Cumulative reward for each episode')\n",
        "plt.ylabel('Cumulative reward')\n",
        "plt.xlabel('episode')\n",
        "plt.show()"
      ]
    },
    {
      "cell_type": "markdown",
      "metadata": {
        "id": "XndSYH7wlvn7"
      },
      "source": [
        "Print the average reward over the 100 episodes."
      ]
    },
    {
      "cell_type": "code",
      "execution_count": 8,
      "metadata": {
        "colab": {
          "base_uri": "https://localhost:8080/"
        },
        "id": "pOiOp9OYlo5Y",
        "outputId": "5f6f919b-ade0-45a9-8009-9bd20eaed82e"
      },
      "outputs": [
        {
          "name": "stdout",
          "output_type": "stream",
          "text": [
            "Average cumulative reward: 367.3\n",
            "Is my agent good enough? True\n"
          ]
        }
      ],
      "source": [
        "print(\"Average cumulative reward:\", episode_results.mean())\n",
        "print(\"Is my agent good enough?\", episode_results.mean() > 195)"
      ]
    },
    {
      "cell_type": "markdown",
      "metadata": {
        "id": "Yg0DCT38lFA6"
      },
      "source": [
        "## Task 3: Render one episode played by the agent"
      ]
    },
    {
      "cell_type": "markdown",
      "metadata": {
        "id": "vx1awMr9lc_w"
      },
      "source": [
        "Plug your agent to the code below to obtain rendered result."
      ]
    },
    {
      "cell_type": "code",
      "execution_count": 11,
      "metadata": {
        "colab": {
          "base_uri": "https://localhost:8080/",
          "height": 475
        },
        "id": "LYyavfbIa47D",
        "outputId": "db1fc9d9-f521-4417-b896-2239859de92c"
      },
      "outputs": [
        {
          "name": "stdout",
          "output_type": "stream",
          "text": [
            "MoviePy - Building video /Users/admin/Desktop/video/rl-video-episode-0.mp4.\n",
            "MoviePy - Writing video /Users/admin/Desktop/video/rl-video-episode-0.mp4\n",
            "\n"
          ]
        },
        {
          "name": "stderr",
          "output_type": "stream",
          "text": [
            "                                                                          "
          ]
        },
        {
          "name": "stdout",
          "output_type": "stream",
          "text": [
            "MoviePy - Done !\n",
            "MoviePy - video ready /Users/admin/Desktop/video/rl-video-episode-0.mp4\n"
          ]
        },
        {
          "name": "stderr",
          "output_type": "stream",
          "text": [
            "\r"
          ]
        },
        {
          "data": {
            "text/html": [
              "<video alt=\"test\" autoplay\n",
              "                loop controls style=\"height: 400px;\">\n",
              "                <source src=\"data:video/mp4;base64,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\" type=\"video/mp4\" />\n",
              "             </video>"
            ],
            "text/plain": [
              "<IPython.core.display.HTML object>"
            ]
          },
          "metadata": {},
          "output_type": "display_data"
        }
      ],
      "source": [
        "def rand_policy_agent(observation):\n",
        "    return random.randint(0, 1)\n",
        "\n",
        "env = RecordVideo(gym.make(\"CartPole-v1\", render_mode=\"rgb_array\"), \"./video\")\n",
        "observation, _ = env.reset()\n",
        "while True:\n",
        "    #your agent goes here\n",
        "    action = policy.observationToIndex(observation).pick_action()\n",
        "    observation, reward, done, info, _ = env.step(action)\n",
        "    if done:\n",
        "      break;\n",
        "env.close()\n",
        "show_video()"
      ]
    }
  ],
  "metadata": {
    "colab": {
      "provenance": []
    },
    "kernelspec": {
      "display_name": "Python 3",
      "name": "python3"
    },
    "language_info": {
      "codemirror_mode": {
        "name": "ipython",
        "version": 3
      },
      "file_extension": ".py",
      "mimetype": "text/x-python",
      "name": "python",
      "nbconvert_exporter": "python",
      "pygments_lexer": "ipython3",
      "version": "3.11.5"
    }
  },
  "nbformat": 4,
  "nbformat_minor": 0
}
